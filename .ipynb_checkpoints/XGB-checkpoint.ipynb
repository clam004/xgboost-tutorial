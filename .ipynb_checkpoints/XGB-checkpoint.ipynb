{
 "cells": [
  {
   "cell_type": "markdown",
   "metadata": {},
   "source": [
    "## XGBoost\n",
    "\n",
    "XGBoost models represent all problems as a regression predictive modeling problem that takes numerical values as input. Your data must be prepared into the expected format:\n",
    "\n",
    "- encode string output variables for classification.\n",
    "- prepare categorical input variables (ie one hot encoding)\n",
    "- handle missing data with XGBoost\n"
   ]
  },
  {
   "cell_type": "markdown",
   "metadata": {},
   "source": [
    "### Simple Case: numeric inputs with categorical outputs\n",
    "\n",
    "meaning of input numbers in the iris dataset\n",
    "\n",
    "   1. sepal length in cm\n",
    "   2. sepal width in cm\n",
    "   3. petal length in cm\n",
    "   4. petal width in cm"
   ]
  },
  {
   "cell_type": "code",
   "execution_count": 18,
   "metadata": {},
   "outputs": [],
   "source": [
    "import pandas\n",
    "import numpy\n",
    "import xgboost\n",
    "from sklearn import model_selection\n",
    "from sklearn.metrics import accuracy_score\n",
    "from sklearn.preprocessing import LabelEncoder\n",
    "\n",
    "import matplotlib.pyplot as plt\n",
    "\n",
    "%matplotlib inline"
   ]
  },
  {
   "cell_type": "code",
   "execution_count": 77,
   "metadata": {},
   "outputs": [
    {
     "name": "stdout",
     "output_type": "stream",
     "text": [
      "<class 'pandas.core.frame.DataFrame'>\n",
      "<class 'numpy.ndarray'>\n"
     ]
    }
   ],
   "source": [
    "# load data from http://archive.ics.uci.edu/ml/machine-learning-databases/iris/iris.data \n",
    "data = pandas.read_csv('../data/iris.data', header=None)\n",
    "print(type(data))\n",
    "dataset = data.values # convert pandas dataframe to <class 'numpy.ndarray'>\n",
    "print(type(dataset))"
   ]
  },
  {
   "cell_type": "code",
   "execution_count": 78,
   "metadata": {},
   "outputs": [],
   "source": [
    "# split data into X and y\n",
    "X = dataset[:,0:4]\n",
    "Y = dataset[:,4]"
   ]
  },
  {
   "cell_type": "code",
   "execution_count": 79,
   "metadata": {},
   "outputs": [
    {
     "name": "stdout",
     "output_type": "stream",
     "text": [
      "<class 'numpy.ndarray'> (150, 4)\n",
      "[[5.1 3.5 1.4 0.2]\n",
      " [4.8 3.1 1.6 0.2]\n",
      " [5.0 2.0 3.5 1.0]\n",
      " [5.5 2.6 4.4 1.2]\n",
      " [6.9 3.2 5.7 2.3]]\n",
      "['Iris-setosa' 'Iris-setosa' 'Iris-versicolor' 'Iris-versicolor'\n",
      " 'Iris-virginica']\n"
     ]
    }
   ],
   "source": [
    "# print every 30th data point\n",
    "print(type(X), X.shape)\n",
    "print(X[::30])\n",
    "print(Y[::30])"
   ]
  },
  {
   "cell_type": "code",
   "execution_count": 80,
   "metadata": {},
   "outputs": [
    {
     "name": "stdout",
     "output_type": "stream",
     "text": [
      "[0 0 1 1 2]\n"
     ]
    }
   ],
   "source": [
    "# encode string class values as integers\n",
    "label_encoder = LabelEncoder()\n",
    "label_encoder = label_encoder.fit(Y)\n",
    "label_encoded_y = label_encoder.transform(Y)\n",
    "print(label_encoded_y[::30])"
   ]
  },
  {
   "cell_type": "markdown",
   "metadata": {},
   "source": [
    "## Handling new unseen categories\n",
    "\n",
    "If you use this label_encoder to convert categories to integer labels for the input to the\n",
    "model, if at test time you encounter a category that is not seen in the training set, the label_encoder can crash, in the future, you may need to custom design a 2 way dictionary\n",
    "that can handle the mapping of number:category that handles new unseen categories. "
   ]
  },
  {
   "cell_type": "code",
   "execution_count": 81,
   "metadata": {},
   "outputs": [
    {
     "name": "stdout",
     "output_type": "stream",
     "text": [
      "expected shape of X and Y (150, 4) (150,)\n"
     ]
    }
   ],
   "source": [
    "print(\"expected shape of X and Y\", X.shape, label_encoded_y.shape)\n",
    "seed = 7\n",
    "test_size = 0.33\n",
    "X_train, X_test, y_train, y_test = model_selection.train_test_split(X, \n",
    "                                                                    label_encoded_y, \n",
    "                                                                    test_size=test_size, \n",
    "                                                                    random_state=seed)"
   ]
  },
  {
   "cell_type": "code",
   "execution_count": 82,
   "metadata": {},
   "outputs": [
    {
     "name": "stdout",
     "output_type": "stream",
     "text": [
      "XGBClassifier(base_score=0.5, booster=None, colsample_bylevel=1,\n",
      "              colsample_bynode=1, colsample_bytree=1, gamma=0, gpu_id=-1,\n",
      "              importance_type='gain', interaction_constraints=None,\n",
      "              learning_rate=0.300000012, max_delta_step=0, max_depth=6,\n",
      "              min_child_weight=1, missing=nan, monotone_constraints=None,\n",
      "              n_estimators=100, n_jobs=0, num_parallel_tree=1,\n",
      "              objective='multi:softprob', random_state=0, reg_alpha=0,\n",
      "              reg_lambda=1, scale_pos_weight=None, subsample=1,\n",
      "              tree_method=None, validate_parameters=False, verbosity=None)\n"
     ]
    }
   ],
   "source": [
    "# fit model no training data\n",
    "model = xgboost.XGBClassifier()\n",
    "model.fit(X_train, y_train)\n",
    "print(model)"
   ]
  },
  {
   "cell_type": "code",
   "execution_count": 83,
   "metadata": {},
   "outputs": [
    {
     "name": "stdout",
     "output_type": "stream",
     "text": [
      "[2 0 2 2 1 2 2 0 2 0]\n",
      "[2, 0, 2, 2, 1, 2, 2, 0, 2, 0]\n",
      "Accuracy: 92.00%\n"
     ]
    }
   ],
   "source": [
    "# make predictions for test data\n",
    "y_pred = model.predict(X_test)\n",
    "print(y_pred[::5])\n",
    "predictions = [round(value) for value in y_pred]\n",
    "print(predictions[::5])\n",
    "# evaluate predictions\n",
    "accuracy = accuracy_score(y_test, predictions)\n",
    "print(\"Accuracy: %.2f%%\" % (accuracy * 100.0))"
   ]
  },
  {
   "cell_type": "markdown",
   "metadata": {},
   "source": [
    "## Feature Importance\n",
    "\n",
    "Importance is calculated for a single decision tree by the amount that each attribute split point improves the performance measure, weighted by the number of observations the node is responsible for. The performance measure may be the purity (Gini index) used to select the split points or another more specific error function.\n",
    "\n",
    "The feature importances are then averaged across all of the the decision trees within the model.\n",
    "\n",
    "For more technical information on how feature importance is calculated in boosted decision trees, see Section 10.13.1 “Relative Importance of Predictor Variables” of [The Elements of Statistical Learning: Data Mining, Inference, and Prediction](https://web.stanford.edu/~hastie/Papers/ESLII.pdf)\n",
    "\n"
   ]
  },
  {
   "cell_type": "code",
   "execution_count": 85,
   "metadata": {},
   "outputs": [
    {
     "data": {
      "image/png": "[encoded data removed]",
      "text/plain": [
       "<Figure size 432x288 with 1 Axes>"
      ]
     },
     "metadata": {
      "needs_background": "light"
     },
     "output_type": "display_data"
    }
   ],
   "source": [
    "plt.bar(range(len(model.feature_importances_)), model.feature_importances_)\n",
    "plt.show()"
   ]
  },
  {
   "cell_type": "markdown",
   "metadata": {},
   "source": [
    "plotting feature importance is a builtin function of xgboost\n",
    "\n",
    "f0: sepal length in cm\n",
    "\n",
    "f1: sepal width in cm\n",
    "\n",
    "f2: petal length in cm\n",
    "\n",
    "f3: petal width in cm\n",
    "\n",
    "we see tha petal length in cm, f2, is the most important feature, this makes sense, it is the most linearly separable feature as well\n",
    "\n",
    "<img src=\"https://upload.wikimedia.org/wikipedia/commons/thumb/5/56/Iris_dataset_scatterplot.svg/800px-Iris_dataset_scatterplot.svg.png\" width=400 height=400>"
   ]
  },
  {
   "cell_type": "code",
   "execution_count": 89,
   "metadata": {},
   "outputs": [
    {
     "data": {
      "image/png": "[encoded data removed]",
      "text/plain": [
       "<Figure size 432x288 with 1 Axes>"
      ]
     },
     "metadata": {
      "needs_background": "light"
     },
     "output_type": "display_data"
    }
   ],
   "source": [
    "from xgboost import plot_importance\n",
    "\n",
    "# plot feature importance\n",
    "plot_importance(model)\n",
    "plt.show()"
   ]
  },
  {
   "cell_type": "markdown",
   "metadata": {},
   "source": [
    "## Categorical inputs to Categorical ouputs\n",
    "\n",
    "input features of Breast Cancer Data Set\n",
    "\n",
    "1. Class: no-recurrence-events, recurrence-events\n",
    "2. age: 10-19, 20-29, 30-39, 40-49, 50-59, 60-69, 70-79, 80-89, 90-99.\n",
    "3. menopause: lt40, ge40, premeno.\n",
    "4. tumor-size: 0-4, 5-9, 10-14, 15-19, 20-24, 25-29, 30-34, 35-39, 40-44, 45-49, 50-54, 55-59\n",
    "5. inv-nodes: 0-2, 3-5, 6-8, 9-11, 12-14, 15-17, 18-20, 21-23, 24-26, 27-29, 30-32, 33-35, 36-39\n",
    "6. node-caps: yes, no.\n",
    "7. deg-malig: 1, 2, 3.\n",
    "8. breast: left, right.\n",
    "9. breast-quad: left-up, left-low, right-up,\tright-low, central.\n",
    "10. irradiat:\tyes, no."
   ]
  },
  {
   "cell_type": "code",
   "execution_count": 48,
   "metadata": {},
   "outputs": [
    {
     "name": "stdout",
     "output_type": "stream",
     "text": [
      "<class 'numpy.ndarray'> (286, 9)\n",
      "['no-recurrence-events' '30-39' 'premeno' '30-34' '0-2' 'no' 3 'left'\n",
      " 'left_low']\n",
      "['no-recurrence-events' '30-39' 'premeno' '30-34' '0-2' 'no' '3' 'left'\n",
      " 'left_low']\n",
      "['no' 'no' 'no' 'no' 'no' 'no']\n"
     ]
    }
   ],
   "source": [
    "# load data\n",
    "data = pandas.read_csv('../data/breast-cancer.data', header=None)\n",
    "dataset = data.values\n",
    "\n",
    "# split data into X and y\n",
    "X = dataset[:,0:9]\n",
    "Y = dataset[:,9]\n",
    "\n",
    "print(type(X), X.shape)\n",
    "print(X[0])\n",
    "X = X.astype(str) # deg-malig: int -> str\n",
    "\n",
    "\n",
    "print(X[0])\n",
    "print(Y[::50])"
   ]
  },
  {
   "cell_type": "markdown",
   "metadata": {},
   "source": [
    "XGBoost may assume that encoded integer values for each input variable have an ordinal relationship. For example that ‘left-up’ encoded as 0 and ‘left-low’ encoded as 1 for the breast-quad variable have a meaningful relationship as integers. In this case, this assumption is untrue.\n",
    "\n",
    "Instead, we must map these integer values onto new binary variables, one new variable for each categorical value.\n",
    "\n",
    "left-up, left-low, right-up, right-low, central ->\n",
    "\n",
    "1,0,0,0,0\n",
    "\n",
    "0,1,0,0,0\n",
    "\n",
    "0,0,1,0,0\n",
    "\n",
    "0,0,0,1,0\n",
    "\n",
    "0,0,0,0,1\n",
    "\n",
    "using the OneHotEncoder class in scikit-learn\n",
    "\n",
    "We can one hot encode each feature after we have label encoded it. First we must transform the feature array into a 2-dimensional NumPy array where each integer value is a feature vector with a length 1. We can then create the OneHotEncoder and encode the feature array.\n",
    "\n"
   ]
  },
  {
   "cell_type": "code",
   "execution_count": 49,
   "metadata": {},
   "outputs": [
    {
     "name": "stdout",
     "output_type": "stream",
     "text": [
      "{'no-recurrence-events', 'recurrence-events'}\n",
      "{0, 1} (286,)\n",
      "[[0]\n",
      " [0]] (286, 1)\n",
      "[[1. 0.]\n",
      " [1. 0.]]\n"
     ]
    }
   ],
   "source": [
    "# what are all the unique categories of the first feature?\n",
    "print(set(X[:,0]))\n",
    "label_encoder = LabelEncoder()\n",
    "feature = label_encoder.fit_transform(X[:,0])\n",
    "# they have now be encoded ordinally, but they are not ordinal\n",
    "print(set(feature), feature.shape)\n",
    "feature = feature.reshape(X.shape[0], 1) # add dimension: (286,) -> (286, 1) \n",
    "print(feature[:2], feature.shape)\n",
    "onehot_encoder = OneHotEncoder(sparse=False, categories='auto')\n",
    "feature = onehot_encoder.fit_transform(feature)\n",
    "print(feature[:2])"
   ]
  },
  {
   "cell_type": "code",
   "execution_count": 50,
   "metadata": {},
   "outputs": [
    {
     "name": "stdout",
     "output_type": "stream",
     "text": [
      "X shape: :  (286, 43)\n"
     ]
    }
   ],
   "source": [
    "from sklearn.preprocessing import OneHotEncoder\n",
    "\n",
    "encoded_x = None\n",
    "for i in range(0, X.shape[1]):\n",
    "    label_encoder = LabelEncoder()\n",
    "    feature = label_encoder.fit_transform(X[:,i])\n",
    "    feature = feature.reshape(X.shape[0], 1)\n",
    "    onehot_encoder = OneHotEncoder(sparse=False, categories='auto')\n",
    "    feature = onehot_encoder.fit_transform(feature)\n",
    "    if encoded_x is None:\n",
    "        encoded_x = feature\n",
    "    else:\n",
    "        encoded_x = numpy.concatenate((encoded_x, feature), axis=1)\n",
    "        \n",
    "print(\"X shape: : \", encoded_x.shape)"
   ]
  },
  {
   "cell_type": "code",
   "execution_count": 51,
   "metadata": {},
   "outputs": [
    {
     "data": {
      "text/plain": [
       "array([[1., 0., 0., 1., 0., 0., 0., 0., 0., 0., 1., 0., 0., 0., 0., 0.,\n",
       "        1., 0., 0., 0., 0., 0., 1., 0., 0., 0., 0., 0., 0., 0., 1., 0.,\n",
       "        0., 0., 1., 1., 0., 0., 0., 1., 0., 0., 0.],\n",
       "       [1., 0., 0., 1., 0., 0., 0., 0., 0., 0., 1., 1., 0., 0., 0., 0.,\n",
       "        0., 0., 0., 0., 0., 0., 1., 0., 0., 0., 0., 0., 0., 0., 1., 0.,\n",
       "        0., 1., 0., 0., 1., 0., 1., 0., 0., 0., 0.],\n",
       "       [1., 0., 0., 0., 1., 0., 0., 0., 0., 0., 1., 0., 0., 0., 0., 0.,\n",
       "        0., 1., 0., 0., 0., 0., 1., 0., 0., 0., 0., 0., 0., 0., 0., 1.,\n",
       "        0., 0., 1., 0., 1., 0., 0., 0., 1., 0., 0.],\n",
       "       [0., 1., 0., 0., 0., 1., 0., 0., 1., 0., 0., 0., 0., 0., 0., 0.,\n",
       "        1., 0., 0., 0., 0., 0., 0., 0., 0., 0., 0., 1., 0., 0., 0., 1.,\n",
       "        0., 0., 1., 1., 0., 0., 0., 0., 0., 1., 0.]])"
      ]
     },
     "execution_count": 51,
     "metadata": {},
     "output_type": "execute_result"
    }
   ],
   "source": [
    "encoded_x[::90] # The input consists of each features one hot encoding concatenated together "
   ]
  },
  {
   "cell_type": "code",
   "execution_count": 52,
   "metadata": {},
   "outputs": [
    {
     "name": "stdout",
     "output_type": "stream",
     "text": [
      "[0 0 1 0]\n"
     ]
    }
   ],
   "source": [
    "# encode string class values as integers\n",
    "label_encoder = LabelEncoder()\n",
    "label_encoder = label_encoder.fit(Y)\n",
    "label_encoded_y = label_encoder.transform(Y)\n",
    "print(label_encoded_y[::90])"
   ]
  },
  {
   "cell_type": "code",
   "execution_count": 35,
   "metadata": {},
   "outputs": [],
   "source": [
    "seed = 7\n",
    "test_size = 0.33\n",
    "X_train, X_test, y_train, y_test = model_selection.train_test_split(encoded_x, \n",
    "                                                    label_encoded_y, \n",
    "                                                    test_size=test_size, \n",
    "                                                    random_state=seed)"
   ]
  },
  {
   "cell_type": "code",
   "execution_count": 37,
   "metadata": {},
   "outputs": [
    {
     "name": "stdout",
     "output_type": "stream",
     "text": [
      "XGBClassifier(base_score=0.5, booster=None, colsample_bylevel=1,\n",
      "              colsample_bynode=1, colsample_bytree=1, gamma=0, gpu_id=-1,\n",
      "              importance_type='gain', interaction_constraints=None,\n",
      "              learning_rate=0.300000012, max_delta_step=0, max_depth=6,\n",
      "              min_child_weight=1, missing=nan, monotone_constraints=None,\n",
      "              n_estimators=100, n_jobs=0, num_parallel_tree=1,\n",
      "              objective='binary:logistic', random_state=0, reg_alpha=0,\n",
      "              reg_lambda=1, scale_pos_weight=1, subsample=1, tree_method=None,\n",
      "              validate_parameters=False, verbosity=None)\n",
      "Accuracy: 71.58%\n"
     ]
    }
   ],
   "source": [
    "# fit model no training data\n",
    "model = xgboost.XGBClassifier()\n",
    "model.fit(X_train, y_train)\n",
    "print(model)\n",
    "# make predictions for test data\n",
    "y_pred = model.predict(X_test)\n",
    "predictions = [round(value) for value in y_pred]\n",
    "# evaluate predictions\n",
    "accuracy = accuracy_score(y_test, predictions)\n",
    "print(\"Accuracy: %.2f%%\" % (accuracy * 100.0))"
   ]
  },
  {
   "cell_type": "markdown",
   "metadata": {},
   "source": [
    "##  Missing Data \n",
    "\n",
    "XGBoost was designed to work with sparse data, like the one hot encoded data from the previous section, and missing data is handled the same way that sparse or zero values are handled, by minimizing the loss function. Section 3.4 “Sparsity-aware Split Finding” in the paper [XGBoost: A Scalable Tree Boosting System](https://arxiv.org/pdf/1603.02754.pdf)\n",
    "\n",
    "The Horse Colic dataset is a good example to demonstrate this capability as it contains a large percentage of missing data, approximately 30%.\n",
    "\n",
    "1: surgery?\n",
    "1 = Yes, it had surgery\n",
    "2 = It was treated without surgery\n",
    "\n",
    "2: Age\n",
    "1 = Adult horse\n",
    "2 = Young (< 6 months)\n",
    "\n",
    "3: Hospital Number\n",
    "- numeric id\n",
    "- the case number assigned to the horse (may not be unique if the horse is treated > 1 time)\n",
    "\n",
    "4: rectal temperature\n",
    "- linear\n",
    "- in degrees celsius.\n",
    "- An elevated temp may occur due to infection.\n",
    "- temperature may be reduced when the animal is in late shock\n",
    "- normal temp is 37.8\n",
    "- this parameter will usually change as the problem progresses, eg. may start out normal, then become elevated because of the lesion, passing back through the normal range as the horse goes into shock\n",
    "\n",
    "21: abdominocentesis appearance\n",
    "- a needle is put in the horse's abdomen and fluid is obtained from\n",
    "the abdominal cavity\n",
    "- possible values:\n",
    "1 = clear\n",
    "2 = cloudy\n",
    "3 = serosanguinous\n",
    "- normal fluid is clear while cloudy or serosanguinous indicates a compromised gut\n",
    "\n",
    "22: abdomcentesis total protein\n",
    "- linear\n",
    "- the higher the level of protein the more likely it is to have a compromised gut. Values are in gms/dL\n",
    "\n",
    "23: outcome\n",
    "- what eventually happened to the horse?\n",
    "- possible values:\n",
    "1 = lived\n",
    "2 = died\n",
    "3 = was euthanized\n",
    "\n",
    "24: surgical lesion?\n",
    "- retrospectively, was the problem (lesion) surgical?\n",
    "- all cases are either operated upon or autopsied so that this value and the lesion type are always known\n",
    "- possible values:\n",
    "1 = Yes\n",
    "2 = No\n",
    "\n"
   ]
  },
  {
   "cell_type": "code",
   "execution_count": 71,
   "metadata": {},
   "outputs": [
    {
     "name": "stdout",
     "output_type": "stream",
     "text": [
      " num features:  28\n",
      "[['2' 1 530101 '38.50' '66' '28' '3' '3' '?' '2' '5' '4' '4' '?' '?' '?'\n",
      "  '3' '5' '45.00' '8.40' '?' '?' '2' 2 11300 0 0 2]\n",
      " ['2' 1 529461 '40.30' '114' '36' '3' '3' '1' '2' '2' '3' '3' '2' '1'\n",
      "  '7.00' '1' '5' '57.00' '8.10' '3' '4.50' '2' 1 3205 0 0 1]\n",
      " ['1' 1 5279822 '38.00' '?' '24' '3' '3' '6' '2' '5' '?' '4' '1' '1' '?'\n",
      "  '?' '?' '68.00' '7.80' '?' '?' '2' 1 2205 0 0 2]\n",
      " ['1' 1 528638 '37.70' '120' '28' '3' '3' '3' '1' '5' '3' '3' '1' '1' '?'\n",
      "  '?' '?' '65.00' '7.00' '3' '?' '2' 1 4205 0 0 1]]\n",
      "{0, 2209}\n",
      "{0, 6112, 3111, 7111, 3112, 1400}\n",
      "{0, 2305, 5124, 3205, 31110, 3207, 5000, 3209, 11400, 4111, 400, 2322, 41110, 5400, 4122, 4124, 2205, 2206, 2207, 2208, 2209, 11300, 3111, 3112, 7209, 9000, 3115, 300, 3113, 12208, 3124, 9400, 3133, 2111, 2112, 2113, 6209, 7111, 3400, 7113, 4300, 2124, 8400, 3025, 5205, 5206, 1111, 6111, 6112, 1124, 3300, 7400, 8300, 4205, 4206, 4207, 11124, 21110, 5111, 1400, 2300}\n",
      "{1, 2}\n"
     ]
    }
   ],
   "source": [
    "# load data\n",
    "dataframe = pandas.read_csv(\"../data/horse-colic.data\", delim_whitespace=True, header=None)\n",
    "dataset = dataframe.values\n",
    "print(\" num features: \", len(dataset[0]))\n",
    "print(dataset[::91])\n",
    "# these features are kinda weird, they can be 0 or large integers\n",
    "print(set(dataset[:,26]))\n",
    "print(set(dataset[:,25]))\n",
    "print(set(dataset[:,24]))\n",
    "# the last feature is binary \n",
    "print(set(dataset[:,27]))"
   ]
  },
  {
   "cell_type": "code",
   "execution_count": 72,
   "metadata": {},
   "outputs": [
    {
     "name": "stdout",
     "output_type": "stream",
     "text": [
      "<class 'numpy.ndarray'> (300, 27)\n",
      "['2' 1 530101 '38.50' '66' '28' '3' '3' '?' '2' '5' '4' '4' '?' '?' '?'\n",
      " '3' '5' '45.00' '8.40' '?' '?' '2' 2 11300 0 0]\n",
      "2\n"
     ]
    }
   ],
   "source": [
    "# split data into X and y\n",
    "X = dataset[:,0:27]\n",
    "Y = dataset[:,27]\n",
    "# print every 30th data point\n",
    "print(type(X), X.shape)\n",
    "print(X[0])\n",
    "print(Y[0])"
   ]
  },
  {
   "cell_type": "markdown",
   "metadata": {},
   "source": [
    "The missing data is marked with a question mark character (‘?’). We can change these missing values to the sparse value expected by XGBoost which is the value zero (0).\n",
    "\n",
    "Because the missing data was marked as strings, those columns with missing data were all loaded as string data types. We can now convert the entire set of input data to numerical values.\n",
    "\n",
    "For this dataset, the numeric data start at 1 and not 0, so zeros do not occur unless inthe case there is no data such as in features 25,26,27. There are 2 ways to handle the missing data:\n",
    "\n",
    "You can assign the mean value to them\n",
    "\n",
    "`imputer = Imputer()`\n",
    "`X = imputer.fit_transform(X)`\n",
    "\n",
    "or you can assign them to 0\n",
    "\n",
    "`X[X == '?'] = 0`"
   ]
  },
  {
   "cell_type": "code",
   "execution_count": 73,
   "metadata": {},
   "outputs": [
    {
     "name": "stdout",
     "output_type": "stream",
     "text": [
      "<class 'numpy.ndarray'> (300, 27)\n",
      "[2.00000e+00 1.00000e+00 5.30101e+05 3.85000e+01 6.60000e+01 2.80000e+01\n",
      " 3.00000e+00 3.00000e+00 0.00000e+00 2.00000e+00 5.00000e+00 4.00000e+00\n",
      " 4.00000e+00 0.00000e+00 0.00000e+00 0.00000e+00 3.00000e+00 5.00000e+00\n",
      " 4.50000e+01 8.40000e+00 0.00000e+00 0.00000e+00 2.00000e+00 2.00000e+00\n",
      " 1.13000e+04 0.00000e+00 0.00000e+00]\n",
      "2\n"
     ]
    }
   ],
   "source": [
    "# set missing values to 0\n",
    "X[X == '?'] = 0\n",
    "# convert to numeric\n",
    "X = X.astype('float32')\n",
    "\n",
    "print(type(X), X.shape)\n",
    "print(X[0])\n",
    "print(Y[0])"
   ]
  },
  {
   "cell_type": "code",
   "execution_count": 74,
   "metadata": {},
   "outputs": [],
   "source": [
    "# encode Y class values as integers 0, 1 instead of 1, 2\n",
    "label_encoder = LabelEncoder()\n",
    "label_encoder = label_encoder.fit(Y)\n",
    "label_encoded_y = label_encoder.transform(Y)"
   ]
  },
  {
   "cell_type": "code",
   "execution_count": 75,
   "metadata": {},
   "outputs": [
    {
     "name": "stdout",
     "output_type": "stream",
     "text": [
      "(300, 27) (300,)\n",
      "[2.00000e+00 1.00000e+00 5.30101e+05 3.85000e+01 6.60000e+01 2.80000e+01\n",
      " 3.00000e+00 3.00000e+00 0.00000e+00 2.00000e+00 5.00000e+00 4.00000e+00\n",
      " 4.00000e+00 0.00000e+00 0.00000e+00 0.00000e+00 3.00000e+00 5.00000e+00\n",
      " 4.50000e+01 8.40000e+00 0.00000e+00 0.00000e+00 2.00000e+00 2.00000e+00\n",
      " 1.13000e+04 0.00000e+00 0.00000e+00]\n",
      "1\n"
     ]
    }
   ],
   "source": [
    "# split data into train and test sets\n",
    "print(X.shape, label_encoded_y.shape)\n",
    "print(X[0])\n",
    "print(label_encoded_y[0])\n",
    "seed = 7\n",
    "test_size = 0.33\n",
    "X_train, X_test, y_train, y_test = model_selection.train_test_split(X, \n",
    "                                                    label_encoded_y, \n",
    "                                                    test_size=test_size, \n",
    "                                                    random_state=seed)"
   ]
  },
  {
   "cell_type": "code",
   "execution_count": 76,
   "metadata": {},
   "outputs": [
    {
     "name": "stdout",
     "output_type": "stream",
     "text": [
      "XGBClassifier(base_score=0.5, booster=None, colsample_bylevel=1,\n",
      "              colsample_bynode=1, colsample_bytree=1, gamma=0, gpu_id=-1,\n",
      "              importance_type='gain', interaction_constraints=None,\n",
      "              learning_rate=0.300000012, max_delta_step=0, max_depth=6,\n",
      "              min_child_weight=1, missing=nan, monotone_constraints=None,\n",
      "              n_estimators=100, n_jobs=0, num_parallel_tree=1,\n",
      "              objective='binary:logistic', random_state=0, reg_alpha=0,\n",
      "              reg_lambda=1, scale_pos_weight=1, subsample=1, tree_method=None,\n",
      "              validate_parameters=False, verbosity=None)\n",
      "Accuracy: 82.83%\n"
     ]
    }
   ],
   "source": [
    "# fit model no training data\n",
    "model = xgboost.XGBClassifier()\n",
    "model.fit(X_train, y_train)\n",
    "print(model)\n",
    "# make predictions for test data\n",
    "y_pred = model.predict(X_test)\n",
    "predictions = [round(value) for value in y_pred]\n",
    "# evaluate predictions\n",
    "accuracy = accuracy_score(y_test, predictions)\n",
    "print(\"Accuracy: %.2f%%\" % (accuracy * 100.0))"
   ]
  },
  {
   "cell_type": "markdown",
   "metadata": {},
   "source": [
    "## Feature Selection: Pima Indians Diabetes Database\n",
    "\n",
    "The diagnostic, binary-valued variable investigated is whether the\n",
    "patient shows signs of diabetes according to World Health Organization\n",
    "criteria (i.e., if the 2 hour post-load plasma glucose was at least \n",
    "200 mg/dl at any survey  examination or if found during routine medical\n",
    "care).   The population lives near Phoenix, Arizona, USA.\n",
    "\n",
    "Results: Their ADAP algorithm makes a real-valued prediction between\n",
    "0 and 1.  This was transformed into a binary decision using a cutoff of \n",
    "0.448.  Using 576 training instances, the sensitivity and specificity\n",
    "of their algorithm was 76% on the remaining 192 instances.\n",
    "\n",
    "5. Number of Instances: 768\n",
    "\n",
    "6. Number of Attributes: 8 plus class \n",
    "\n",
    "7. For Each Attribute: (all numeric-valued)\n",
    "   1. Number of times pregnant\n",
    "   2. Plasma glucose concentration a 2 hours in an oral glucose tolerance test\n",
    "   3. Diastolic blood pressure (mm Hg)\n",
    "   4. Triceps skin fold thickness (mm)\n",
    "   5. 2-Hour serum insulin (mu U/ml)\n",
    "   6. Body mass index (weight in kg/(height in m)^2)\n",
    "   7. Diabetes pedigree function (represents ancestor’s history)\n",
    "   8. Age (years)\n",
    "   9. Class variable (0 or 1)\n",
    "\n",
    "8. Missing Attribute Values: Yes\n",
    "\n",
    "9. Class Distribution: (class value 1 is interpreted as \"tested positive for\n",
    "   diabetes\")\n",
    "\n",
    "   Class Value  Number of instances\n",
    "   \n",
    "   0            500\n",
    "   \n",
    "   1            268"
   ]
  },
  {
   "cell_type": "code",
   "execution_count": 176,
   "metadata": {},
   "outputs": [
    {
     "name": "stdout",
     "output_type": "stream",
     "text": [
      "majority classifier 0.651\n",
      "[[6.000e+00 1.480e+02 7.200e+01 3.500e+01 0.000e+00 3.360e+01 6.270e-01\n",
      "  5.000e+01 1.000e+00]\n",
      " [1.000e+00 1.630e+02 7.200e+01 0.000e+00 0.000e+00 3.900e+01 1.222e+00\n",
      "  3.300e+01 1.000e+00]\n",
      " [0.000e+00 1.130e+02 8.000e+01 1.600e+01 0.000e+00 3.100e+01 8.740e-01\n",
      "  2.100e+01 0.000e+00]\n",
      " [0.000e+00 1.670e+02 0.000e+00 0.000e+00 0.000e+00 3.230e+01 8.390e-01\n",
      "  3.000e+01 1.000e+00]\n",
      " [4.000e+00 9.500e+01 6.400e+01 0.000e+00 0.000e+00 3.200e+01 1.610e-01\n",
      "  3.100e+01 1.000e+00]\n",
      " [2.000e+00 1.170e+02 9.000e+01 1.900e+01 7.100e+01 2.520e+01 3.130e-01\n",
      "  2.100e+01 0.000e+00]\n",
      " [1.000e+00 1.080e+02 8.800e+01 1.900e+01 0.000e+00 2.710e+01 4.000e-01\n",
      "  2.400e+01 0.000e+00]\n",
      " [2.000e+00 1.220e+02 7.600e+01 2.700e+01 2.000e+02 3.590e+01 4.830e-01\n",
      "  2.600e+01 0.000e+00]]\n"
     ]
    }
   ],
   "source": [
    "\n",
    "dataset = numpy.loadtxt('../data/pima-indians-diabetes.csv', delimiter=\",\")\n",
    "#dataframe = pandas.read_csv('../data/pima-indians-diabetes.csv', delimiter=\",\")\n",
    "#dataset = dataframe.values\n",
    "print(\"majority classifier\", round(500/(500+268),3))\n",
    "print(dataset[::100])\n",
    "# split data into X and y\n",
    "X = dataset[:,0:8]\n",
    "Y = dataset[:,8]"
   ]
  },
  {
   "cell_type": "code",
   "execution_count": 168,
   "metadata": {},
   "outputs": [
    {
     "data": {
      "text/plain": [
       "array([[6.000e+00, 1.480e+02, 7.200e+01, 3.500e+01, 1.000e+00, 3.360e+01,\n",
       "        6.270e-01, 5.000e+01],\n",
       "       [1.000e+00, 1.630e+02, 7.200e+01, 1.000e+00, 1.000e+00, 3.900e+01,\n",
       "        1.222e+00, 3.300e+01],\n",
       "       [0.000e+00, 1.130e+02, 8.000e+01, 1.600e+01, 1.000e+00, 3.100e+01,\n",
       "        8.740e-01, 2.100e+01],\n",
       "       [0.000e+00, 1.670e+02, 0.000e+00, 1.000e+00, 1.000e+00, 3.230e+01,\n",
       "        8.390e-01, 3.000e+01],\n",
       "       [4.000e+00, 9.500e+01, 6.400e+01, 1.000e+00, 1.000e+00, 3.200e+01,\n",
       "        1.610e-01, 3.100e+01],\n",
       "       [2.000e+00, 1.170e+02, 9.000e+01, 1.900e+01, 7.100e+01, 2.520e+01,\n",
       "        3.130e-01, 2.100e+01],\n",
       "       [1.000e+00, 1.080e+02, 8.800e+01, 1.900e+01, 1.000e+00, 2.710e+01,\n",
       "        4.000e-01, 2.400e+01],\n",
       "       [2.000e+00, 1.220e+02, 7.600e+01, 2.700e+01, 2.000e+02, 3.590e+01,\n",
       "        4.830e-01, 2.600e+01]])"
      ]
     },
     "execution_count": 168,
     "metadata": {},
     "output_type": "execute_result"
    }
   ],
   "source": [
    "X[:,3][X[:,3]==0.]=numpy.around(numpy.mean(X[:,3]!=0.))\n",
    "X[:,4][X[:,4]==0.]=numpy.around(numpy.mean(X[:,4]!=0.))\n",
    "X[::100]"
   ]
  },
  {
   "cell_type": "code",
   "execution_count": 180,
   "metadata": {},
   "outputs": [
    {
     "name": "stdout",
     "output_type": "stream",
     "text": [
      "Accuracy: 77.95%\n"
     ]
    }
   ],
   "source": [
    "# split data into train and test sets\n",
    "X_train, X_test, y_train, y_test = model_selection.train_test_split(X, \n",
    "                                                                    Y, \n",
    "                                                                    test_size=0.33, \n",
    "                                                                    random_state=1)\n",
    "# fit model on all training data\n",
    "model = xgboost.XGBClassifier()\n",
    "model.fit(X_train, y_train)\n",
    "# make predictions for test data and evaluate\n",
    "y_pred = model.predict(X_test)\n",
    "predictions = [round(value) for value in y_pred]\n",
    "accuracy = accuracy_score(y_test, predictions)\n",
    "print(\"Accuracy: %.2f%%\" % (accuracy * 100.0))"
   ]
  },
  {
   "cell_type": "code",
   "execution_count": 181,
   "metadata": {},
   "outputs": [
    {
     "name": "stdout",
     "output_type": "stream",
     "text": [
      "model.feature_importances_ [0.10440847 0.21552509 0.09496948 0.08279032 0.106089   0.15713796\n",
      " 0.09531099 0.14376874]\n",
      "majority classifier 0.6377952755905512\n",
      "num_features=1, Accuracy: 70.47%\n",
      "num_features=2, Accuracy: 70.87%\n",
      "num_features=3, Accuracy: 74.80%\n",
      "num_features=4, Accuracy: 72.83%\n",
      "num_features=5, Accuracy: 77.17%\n",
      "num_features=6, Accuracy: 76.38%\n",
      "num_features=7, Accuracy: 77.17%\n",
      "num_features=8, Accuracy: 75.59%\n"
     ]
    }
   ],
   "source": [
    "# Fit model using each importance as a threshold\n",
    "from numpy import sort\n",
    "from sklearn.feature_selection import SelectFromModel\n",
    "print(\"model.feature_importances_\", model.feature_importances_)\n",
    "print(\"majority classifier\",1 - numpy.mean(y_test))\n",
    "sort_idx = numpy.argsort(-model.feature_importances_) # sort in decreasing order\n",
    "best_feature = sort_idx[0]  \n",
    "X_train_build = X_train[:,best_feature].reshape(X_train.shape[0], 1)\n",
    "X_test_build = X_test[:,best_feature].reshape(X_test.shape[0], 1)\n",
    "for idx in list(sort_idx):\n",
    "    if idx != best_feature:\n",
    "        X_train_build = numpy.concatenate((X_train_build, \n",
    "                                           X_train[:,idx].reshape(X_train.shape[0], 1)), \n",
    "                                           axis=1)\n",
    "        X_test_build = numpy.concatenate((X_test_build, \n",
    "                                          X_test[:,idx].reshape(X_test.shape[0], 1)), \n",
    "                                          axis=1)\n",
    "    # train model\n",
    "    selection_model = xgboost.XGBClassifier()\n",
    "    selection_model.fit(X_train_build, y_train)\n",
    "    # eval model\n",
    "    y_pred = selection_model.predict(X_test_build)\n",
    "    predictions = [round(value) for value in y_pred]\n",
    "    accuracy = accuracy_score(y_test, predictions)\n",
    "    print(\"num_features=%d, Accuracy: %.2f%%\" % ( X_train_build.shape[1], \n",
    "                                                   accuracy*100.0))"
   ]
  },
  {
   "cell_type": "code",
   "execution_count": null,
   "metadata": {},
   "outputs": [],
   "source": []
  }
 ],
 "metadata": {
  "kernelspec": {
   "display_name": "Python 3",
   "language": "python",
   "name": "python3"
  },
  "language_info": {
   "codemirror_mode": {
    "name": "ipython",
    "version": 3
   },
   "file_extension": ".py",
   "mimetype": "text/x-python",
   "name": "python",
   "nbconvert_exporter": "python",
   "pygments_lexer": "ipython3",
   "version": "3.6.9"
  }
 },
 "nbformat": 4,
 "nbformat_minor": 4
}
